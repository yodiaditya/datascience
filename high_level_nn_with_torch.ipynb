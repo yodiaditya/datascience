{
 "cells": [
  {
   "cell_type": "markdown",
   "metadata": {},
   "source": [
    "# High-Level PyTorch NN examples\n",
    "\n",
    "Ref: https://pytorch.org/tutorials/beginner/basics/autogradqs_tutorial.html \n",
    "\n",
    "- Supposed we have two data, input and output, and we want to find the relationship between them.\n",
    "- Input has 5 datas with value of `1`\n",
    "- Target has 2 datas with value of `0`"
   ]
  },
  {
   "cell_type": "code",
   "execution_count": 4,
   "metadata": {},
   "outputs": [],
   "source": [
    "import torch\n",
    "\n",
    "input = torch.ones(5)\n",
    "target = torch.zeros(3)"
   ]
  },
  {
   "cell_type": "markdown",
   "metadata": {},
   "source": [
    "- **Neural network is linear regression with activation function.**\n",
    "- Remember `y = Ax + b`? Yes, we gonna use the same formula for deep learning.\n",
    "- Translated into `prediction = input * weight + bias` "
   ]
  },
  {
   "cell_type": "code",
   "execution_count": 6,
   "metadata": {},
   "outputs": [],
   "source": [
    "weight = torch.randn(5, 3, requires_grad=True) # the matrix size is input and output\n",
    "bias = torch.randn(3, requires_grad=True) # the size is similar like output\n",
    "\n",
    "predicted = torch.matmul(input, weight) + bias # torch matmul is to do multiplication operation\n",
    "loss = torch.nn.functional.binary_cross_entropy_with_logits(predicted, target) # calculate loss from prediction vs actual target value"
   ]
  },
  {
   "cell_type": "markdown",
   "metadata": {},
   "source": [
    "- **requires_grad=True is for backpropagation.** where the parameter is being updated by the optimizer."
   ]
  },
  {
   "cell_type": "code",
   "execution_count": 7,
   "metadata": {},
   "outputs": [
    {
     "name": "stdout",
     "output_type": "stream",
     "text": [
      "Gradient function for predicted = <AddBackward0 object at 0x7fcd747a05b0>\n",
      "Gradient function for loss = <BinaryCrossEntropyWithLogitsBackward0 object at 0x7fcd747a0ac0>\n"
     ]
    }
   ],
   "source": [
    "print(f\"Gradient function for predicted = {predicted.grad_fn}\")\n",
    "print(f\"Gradient function for loss = {loss.grad_fn}\")"
   ]
  },
  {
   "cell_type": "code",
   "execution_count": 8,
   "metadata": {},
   "outputs": [
    {
     "name": "stdout",
     "output_type": "stream",
     "text": [
      "tensor([[0.3143, 0.2338, 0.0857],\n",
      "        [0.3143, 0.2338, 0.0857],\n",
      "        [0.3143, 0.2338, 0.0857],\n",
      "        [0.3143, 0.2338, 0.0857],\n",
      "        [0.3143, 0.2338, 0.0857]])\n",
      "tensor([0.3143, 0.2338, 0.0857])\n"
     ]
    }
   ],
   "source": [
    "loss.backward()\n",
    "print(weight.grad)\n",
    "print(bias.grad)"
   ]
  }
 ],
 "metadata": {
  "kernelspec": {
   "display_name": "bert",
   "language": "python",
   "name": "python3"
  },
  "language_info": {
   "codemirror_mode": {
    "name": "ipython",
    "version": 3
   },
   "file_extension": ".py",
   "mimetype": "text/x-python",
   "name": "python",
   "nbconvert_exporter": "python",
   "pygments_lexer": "ipython3",
   "version": "3.10.13"
  }
 },
 "nbformat": 4,
 "nbformat_minor": 2
}
