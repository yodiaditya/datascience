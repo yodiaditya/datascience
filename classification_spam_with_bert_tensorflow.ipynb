{
 "cells": [
  {
   "cell_type": "markdown",
   "metadata": {},
   "source": [
    "# BERT Spam Classification using Tensorflow\n",
    "\n",
    "Try to classify spam messages using BERT and Tensorflow.\n",
    "\n",
    "Credit to : https://www.analyticsvidhya.com/blog/2021/12/text-classification-using-bert-and-tensorflow/"
   ]
  },
  {
   "cell_type": "code",
   "execution_count": 1,
   "metadata": {},
   "outputs": [
    {
     "name": "stdout",
     "output_type": "stream",
     "text": [
      "Requirement already satisfied: tensorflow-text==2.8.1 in /home/dev/anaconda3/envs/bert/lib/python3.10/site-packages (2.8.1)\n",
      "Requirement already satisfied: tensorflow<2.9,>=2.8.0 in /home/dev/anaconda3/envs/bert/lib/python3.10/site-packages (from tensorflow-text==2.8.1) (2.8.4)\n",
      "Requirement already satisfied: tensorflow-hub>=0.8.0 in /home/dev/anaconda3/envs/bert/lib/python3.10/site-packages (from tensorflow-text==2.8.1) (0.15.0)\n",
      "Requirement already satisfied: absl-py>=0.4.0 in /home/dev/anaconda3/envs/bert/lib/python3.10/site-packages (from tensorflow<2.9,>=2.8.0->tensorflow-text==2.8.1) (2.0.0)\n",
      "Requirement already satisfied: astunparse>=1.6.0 in /home/dev/anaconda3/envs/bert/lib/python3.10/site-packages (from tensorflow<2.9,>=2.8.0->tensorflow-text==2.8.1) (1.6.3)\n",
      "Requirement already satisfied: flatbuffers>=1.12 in /home/dev/anaconda3/envs/bert/lib/python3.10/site-packages (from tensorflow<2.9,>=2.8.0->tensorflow-text==2.8.1) (23.5.26)\n",
      "Requirement already satisfied: gast>=0.2.1 in /home/dev/anaconda3/envs/bert/lib/python3.10/site-packages (from tensorflow<2.9,>=2.8.0->tensorflow-text==2.8.1) (0.5.4)\n",
      "Requirement already satisfied: google-pasta>=0.1.1 in /home/dev/anaconda3/envs/bert/lib/python3.10/site-packages (from tensorflow<2.9,>=2.8.0->tensorflow-text==2.8.1) (0.2.0)\n",
      "Requirement already satisfied: h5py>=2.9.0 in /home/dev/anaconda3/envs/bert/lib/python3.10/site-packages (from tensorflow<2.9,>=2.8.0->tensorflow-text==2.8.1) (3.10.0)\n",
      "Requirement already satisfied: keras-preprocessing>=1.1.1 in /home/dev/anaconda3/envs/bert/lib/python3.10/site-packages (from tensorflow<2.9,>=2.8.0->tensorflow-text==2.8.1) (1.1.2)\n",
      "Requirement already satisfied: libclang>=9.0.1 in /home/dev/anaconda3/envs/bert/lib/python3.10/site-packages (from tensorflow<2.9,>=2.8.0->tensorflow-text==2.8.1) (16.0.6)\n",
      "Requirement already satisfied: numpy>=1.20 in /home/dev/anaconda3/envs/bert/lib/python3.10/site-packages (from tensorflow<2.9,>=2.8.0->tensorflow-text==2.8.1) (1.26.0)\n",
      "Requirement already satisfied: opt-einsum>=2.3.2 in /home/dev/anaconda3/envs/bert/lib/python3.10/site-packages (from tensorflow<2.9,>=2.8.0->tensorflow-text==2.8.1) (3.3.0)\n",
      "Requirement already satisfied: protobuf<3.20,>=3.9.2 in /home/dev/anaconda3/envs/bert/lib/python3.10/site-packages (from tensorflow<2.9,>=2.8.0->tensorflow-text==2.8.1) (3.19.6)\n",
      "Requirement already satisfied: setuptools in /home/dev/anaconda3/envs/bert/lib/python3.10/site-packages (from tensorflow<2.9,>=2.8.0->tensorflow-text==2.8.1) (68.0.0)\n",
      "Requirement already satisfied: six>=1.12.0 in /home/dev/anaconda3/envs/bert/lib/python3.10/site-packages (from tensorflow<2.9,>=2.8.0->tensorflow-text==2.8.1) (1.16.0)\n",
      "Requirement already satisfied: termcolor>=1.1.0 in /home/dev/anaconda3/envs/bert/lib/python3.10/site-packages (from tensorflow<2.9,>=2.8.0->tensorflow-text==2.8.1) (2.3.0)\n",
      "Requirement already satisfied: typing-extensions>=3.6.6 in /home/dev/anaconda3/envs/bert/lib/python3.10/site-packages (from tensorflow<2.9,>=2.8.0->tensorflow-text==2.8.1) (4.8.0)\n",
      "Requirement already satisfied: wrapt>=1.11.0 in /home/dev/anaconda3/envs/bert/lib/python3.10/site-packages (from tensorflow<2.9,>=2.8.0->tensorflow-text==2.8.1) (1.15.0)\n",
      "Requirement already satisfied: tensorboard<2.9,>=2.8 in /home/dev/anaconda3/envs/bert/lib/python3.10/site-packages (from tensorflow<2.9,>=2.8.0->tensorflow-text==2.8.1) (2.8.0)\n",
      "Requirement already satisfied: tensorflow-estimator<2.9,>=2.8 in /home/dev/anaconda3/envs/bert/lib/python3.10/site-packages (from tensorflow<2.9,>=2.8.0->tensorflow-text==2.8.1) (2.8.0)\n",
      "Requirement already satisfied: keras<2.9,>=2.8.0rc0 in /home/dev/anaconda3/envs/bert/lib/python3.10/site-packages (from tensorflow<2.9,>=2.8.0->tensorflow-text==2.8.1) (2.8.0)\n",
      "Requirement already satisfied: tensorflow-io-gcs-filesystem>=0.23.1 in /home/dev/anaconda3/envs/bert/lib/python3.10/site-packages (from tensorflow<2.9,>=2.8.0->tensorflow-text==2.8.1) (0.34.0)\n",
      "Requirement already satisfied: grpcio<2.0,>=1.24.3 in /home/dev/anaconda3/envs/bert/lib/python3.10/site-packages (from tensorflow<2.9,>=2.8.0->tensorflow-text==2.8.1) (1.59.0)\n",
      "Requirement already satisfied: wheel<1.0,>=0.23.0 in /home/dev/anaconda3/envs/bert/lib/python3.10/site-packages (from astunparse>=1.6.0->tensorflow<2.9,>=2.8.0->tensorflow-text==2.8.1) (0.41.2)\n",
      "Requirement already satisfied: google-auth<3,>=1.6.3 in /home/dev/anaconda3/envs/bert/lib/python3.10/site-packages (from tensorboard<2.9,>=2.8->tensorflow<2.9,>=2.8.0->tensorflow-text==2.8.1) (2.23.3)\n",
      "Requirement already satisfied: google-auth-oauthlib<0.5,>=0.4.1 in /home/dev/anaconda3/envs/bert/lib/python3.10/site-packages (from tensorboard<2.9,>=2.8->tensorflow<2.9,>=2.8.0->tensorflow-text==2.8.1) (0.4.6)\n",
      "Requirement already satisfied: markdown>=2.6.8 in /home/dev/anaconda3/envs/bert/lib/python3.10/site-packages (from tensorboard<2.9,>=2.8->tensorflow<2.9,>=2.8.0->tensorflow-text==2.8.1) (3.5)\n",
      "Requirement already satisfied: requests<3,>=2.21.0 in /home/dev/anaconda3/envs/bert/lib/python3.10/site-packages (from tensorboard<2.9,>=2.8->tensorflow<2.9,>=2.8.0->tensorflow-text==2.8.1) (2.31.0)\n",
      "Requirement already satisfied: tensorboard-data-server<0.7.0,>=0.6.0 in /home/dev/anaconda3/envs/bert/lib/python3.10/site-packages (from tensorboard<2.9,>=2.8->tensorflow<2.9,>=2.8.0->tensorflow-text==2.8.1) (0.6.1)\n",
      "Requirement already satisfied: tensorboard-plugin-wit>=1.6.0 in /home/dev/anaconda3/envs/bert/lib/python3.10/site-packages (from tensorboard<2.9,>=2.8->tensorflow<2.9,>=2.8.0->tensorflow-text==2.8.1) (1.8.1)\n",
      "Requirement already satisfied: werkzeug>=0.11.15 in /home/dev/anaconda3/envs/bert/lib/python3.10/site-packages (from tensorboard<2.9,>=2.8->tensorflow<2.9,>=2.8.0->tensorflow-text==2.8.1) (3.0.0)\n",
      "Requirement already satisfied: cachetools<6.0,>=2.0.0 in /home/dev/anaconda3/envs/bert/lib/python3.10/site-packages (from google-auth<3,>=1.6.3->tensorboard<2.9,>=2.8->tensorflow<2.9,>=2.8.0->tensorflow-text==2.8.1) (5.3.1)\n",
      "Requirement already satisfied: pyasn1-modules>=0.2.1 in /home/dev/anaconda3/envs/bert/lib/python3.10/site-packages (from google-auth<3,>=1.6.3->tensorboard<2.9,>=2.8->tensorflow<2.9,>=2.8.0->tensorflow-text==2.8.1) (0.3.0)\n",
      "Requirement already satisfied: rsa<5,>=3.1.4 in /home/dev/anaconda3/envs/bert/lib/python3.10/site-packages (from google-auth<3,>=1.6.3->tensorboard<2.9,>=2.8->tensorflow<2.9,>=2.8.0->tensorflow-text==2.8.1) (4.9)\n",
      "Requirement already satisfied: requests-oauthlib>=0.7.0 in /home/dev/anaconda3/envs/bert/lib/python3.10/site-packages (from google-auth-oauthlib<0.5,>=0.4.1->tensorboard<2.9,>=2.8->tensorflow<2.9,>=2.8.0->tensorflow-text==2.8.1) (1.3.1)\n",
      "Requirement already satisfied: charset-normalizer<4,>=2 in /home/dev/anaconda3/envs/bert/lib/python3.10/site-packages (from requests<3,>=2.21.0->tensorboard<2.9,>=2.8->tensorflow<2.9,>=2.8.0->tensorflow-text==2.8.1) (3.3.0)\n",
      "Requirement already satisfied: idna<4,>=2.5 in /home/dev/anaconda3/envs/bert/lib/python3.10/site-packages (from requests<3,>=2.21.0->tensorboard<2.9,>=2.8->tensorflow<2.9,>=2.8.0->tensorflow-text==2.8.1) (3.4)\n",
      "Requirement already satisfied: urllib3<3,>=1.21.1 in /home/dev/anaconda3/envs/bert/lib/python3.10/site-packages (from requests<3,>=2.21.0->tensorboard<2.9,>=2.8->tensorflow<2.9,>=2.8.0->tensorflow-text==2.8.1) (2.0.6)\n",
      "Requirement already satisfied: certifi>=2017.4.17 in /home/dev/anaconda3/envs/bert/lib/python3.10/site-packages (from requests<3,>=2.21.0->tensorboard<2.9,>=2.8->tensorflow<2.9,>=2.8.0->tensorflow-text==2.8.1) (2023.7.22)\n",
      "Requirement already satisfied: MarkupSafe>=2.1.1 in /home/dev/anaconda3/envs/bert/lib/python3.10/site-packages (from werkzeug>=0.11.15->tensorboard<2.9,>=2.8->tensorflow<2.9,>=2.8.0->tensorflow-text==2.8.1) (2.1.1)\n",
      "Requirement already satisfied: pyasn1<0.6.0,>=0.4.6 in /home/dev/anaconda3/envs/bert/lib/python3.10/site-packages (from pyasn1-modules>=0.2.1->google-auth<3,>=1.6.3->tensorboard<2.9,>=2.8->tensorflow<2.9,>=2.8.0->tensorflow-text==2.8.1) (0.5.0)\n",
      "Requirement already satisfied: oauthlib>=3.0.0 in /home/dev/anaconda3/envs/bert/lib/python3.10/site-packages (from requests-oauthlib>=0.7.0->google-auth-oauthlib<0.5,>=0.4.1->tensorboard<2.9,>=2.8->tensorflow<2.9,>=2.8.0->tensorflow-text==2.8.1) (3.2.2)\n",
      "Requirement already satisfied: scikit-learn==1.3.1 in /home/dev/anaconda3/envs/bert/lib/python3.10/site-packages (1.3.1)\n",
      "Requirement already satisfied: numpy<2.0,>=1.17.3 in /home/dev/anaconda3/envs/bert/lib/python3.10/site-packages (from scikit-learn==1.3.1) (1.26.0)\n",
      "Requirement already satisfied: scipy>=1.5.0 in /home/dev/anaconda3/envs/bert/lib/python3.10/site-packages (from scikit-learn==1.3.1) (1.11.3)\n",
      "Requirement already satisfied: joblib>=1.1.1 in /home/dev/anaconda3/envs/bert/lib/python3.10/site-packages (from scikit-learn==1.3.1) (1.3.2)\n",
      "Requirement already satisfied: threadpoolctl>=2.0.0 in /home/dev/anaconda3/envs/bert/lib/python3.10/site-packages (from scikit-learn==1.3.1) (3.2.0)\n"
     ]
    }
   ],
   "source": [
    "import sys\n",
    "!{sys.executable} -m pip install tensorflow-text==2.8.1\n",
    "!{sys.executable} -m pip install scikit-learn==1.3.1"
   ]
  },
  {
   "cell_type": "code",
   "execution_count": 2,
   "metadata": {},
   "outputs": [
    {
     "data": {
      "text/html": [
       "<div>\n",
       "<style scoped>\n",
       "    .dataframe tbody tr th:only-of-type {\n",
       "        vertical-align: middle;\n",
       "    }\n",
       "\n",
       "    .dataframe tbody tr th {\n",
       "        vertical-align: top;\n",
       "    }\n",
       "\n",
       "    .dataframe thead th {\n",
       "        text-align: right;\n",
       "    }\n",
       "</style>\n",
       "<table border=\"1\" class=\"dataframe\">\n",
       "  <thead>\n",
       "    <tr style=\"text-align: right;\">\n",
       "      <th></th>\n",
       "      <th>label</th>\n",
       "      <th>message</th>\n",
       "    </tr>\n",
       "  </thead>\n",
       "  <tbody>\n",
       "    <tr>\n",
       "      <th>0</th>\n",
       "      <td>ham</td>\n",
       "      <td>Go until jurong point, crazy.. Available only ...</td>\n",
       "    </tr>\n",
       "    <tr>\n",
       "      <th>1</th>\n",
       "      <td>ham</td>\n",
       "      <td>Ok lar... Joking wif u oni...</td>\n",
       "    </tr>\n",
       "    <tr>\n",
       "      <th>2</th>\n",
       "      <td>spam</td>\n",
       "      <td>Free entry in 2 a wkly comp to win FA Cup fina...</td>\n",
       "    </tr>\n",
       "    <tr>\n",
       "      <th>3</th>\n",
       "      <td>ham</td>\n",
       "      <td>U dun say so early hor... U c already then say...</td>\n",
       "    </tr>\n",
       "    <tr>\n",
       "      <th>4</th>\n",
       "      <td>ham</td>\n",
       "      <td>Nah I don't think he goes to usf, he lives aro...</td>\n",
       "    </tr>\n",
       "  </tbody>\n",
       "</table>\n",
       "</div>"
      ],
      "text/plain": [
       "  label                                            message\n",
       "0   ham  Go until jurong point, crazy.. Available only ...\n",
       "1   ham                      Ok lar... Joking wif u oni...\n",
       "2  spam  Free entry in 2 a wkly comp to win FA Cup fina...\n",
       "3   ham  U dun say so early hor... U c already then say...\n",
       "4   ham  Nah I don't think he goes to usf, he lives aro..."
      ]
     },
     "execution_count": 2,
     "metadata": {},
     "output_type": "execute_result"
    }
   ],
   "source": [
    "import pandas as pd\n",
    "\n",
    "df = pd.read_csv(\"data/SMSSpamCollection\", sep=\"\\t\", names=[\"label\", 'message'])\n",
    "df.head()"
   ]
  },
  {
   "cell_type": "markdown",
   "metadata": {},
   "source": [
    "Convert label ham and spam into binary values 0 and 1"
   ]
  },
  {
   "cell_type": "code",
   "execution_count": 3,
   "metadata": {},
   "outputs": [
    {
     "data": {
      "text/html": [
       "<div>\n",
       "<style scoped>\n",
       "    .dataframe tbody tr th:only-of-type {\n",
       "        vertical-align: middle;\n",
       "    }\n",
       "\n",
       "    .dataframe tbody tr th {\n",
       "        vertical-align: top;\n",
       "    }\n",
       "\n",
       "    .dataframe thead th {\n",
       "        text-align: right;\n",
       "    }\n",
       "</style>\n",
       "<table border=\"1\" class=\"dataframe\">\n",
       "  <thead>\n",
       "    <tr style=\"text-align: right;\">\n",
       "      <th></th>\n",
       "      <th>label</th>\n",
       "      <th>message</th>\n",
       "      <th>spam</th>\n",
       "    </tr>\n",
       "  </thead>\n",
       "  <tbody>\n",
       "    <tr>\n",
       "      <th>0</th>\n",
       "      <td>ham</td>\n",
       "      <td>Go until jurong point, crazy.. Available only ...</td>\n",
       "      <td>0</td>\n",
       "    </tr>\n",
       "    <tr>\n",
       "      <th>1</th>\n",
       "      <td>ham</td>\n",
       "      <td>Ok lar... Joking wif u oni...</td>\n",
       "      <td>0</td>\n",
       "    </tr>\n",
       "    <tr>\n",
       "      <th>2</th>\n",
       "      <td>spam</td>\n",
       "      <td>Free entry in 2 a wkly comp to win FA Cup fina...</td>\n",
       "      <td>1</td>\n",
       "    </tr>\n",
       "    <tr>\n",
       "      <th>3</th>\n",
       "      <td>ham</td>\n",
       "      <td>U dun say so early hor... U c already then say...</td>\n",
       "      <td>0</td>\n",
       "    </tr>\n",
       "    <tr>\n",
       "      <th>4</th>\n",
       "      <td>ham</td>\n",
       "      <td>Nah I don't think he goes to usf, he lives aro...</td>\n",
       "      <td>0</td>\n",
       "    </tr>\n",
       "  </tbody>\n",
       "</table>\n",
       "</div>"
      ],
      "text/plain": [
       "  label                                            message  spam\n",
       "0   ham  Go until jurong point, crazy.. Available only ...     0\n",
       "1   ham                      Ok lar... Joking wif u oni...     0\n",
       "2  spam  Free entry in 2 a wkly comp to win FA Cup fina...     1\n",
       "3   ham  U dun say so early hor... U c already then say...     0\n",
       "4   ham  Nah I don't think he goes to usf, he lives aro...     0"
      ]
     },
     "execution_count": 3,
     "metadata": {},
     "output_type": "execute_result"
    }
   ],
   "source": [
    "df['spam'] = df['label'].apply(lambda x: 1 if x == \"spam\" else 0)\n",
    "df.head()"
   ]
  },
  {
   "cell_type": "code",
   "execution_count": 4,
   "metadata": {},
   "outputs": [
    {
     "name": "stdout",
     "output_type": "stream",
     "text": [
      "171\n"
     ]
    },
    {
     "data": {
      "image/png": "[encoded data removed]",
      "text/plain": [
       "<Figure size 640x480 with 1 Axes>"
      ]
     },
     "metadata": {},
     "output_type": "display_data"
    }
   ],
   "source": [
    "seq_len = [len(i.split()) for i in df.message]\n",
    "\n",
    "pd.Series(seq_len).hist(bins=30)\n",
    "max_seq_len = max(seq_len)\n",
    "print(max_seq_len)"
   ]
  },
  {
   "cell_type": "markdown",
   "metadata": {},
   "source": [
    "- **Split dataset into train and test using `train_test_split`.**  \n",
    "- Using stratified sampling to ensure that train and test have equal proportion of `ham` and `spam`. \n",
    "- Stratified sampling is a method of sampling from a population which can be partitioned into subpopulations.\n"
   ]
  },
  {
   "cell_type": "code",
   "execution_count": 5,
   "metadata": {},
   "outputs": [
    {
     "data": {
      "text/plain": [
       "4568    But you were together so you should be thinkin...\n",
       "1456    Summers finally here! Fancy a chat or flirt wi...\n",
       "2080                          I can take you at like noon\n",
       "3422    Welcome! Please reply with your AGE and GENDER...\n",
       "3390                        O. Guess they both got screwd\n",
       "Name: message, dtype: object"
      ]
     },
     "execution_count": 5,
     "metadata": {},
     "output_type": "execute_result"
    }
   ],
   "source": [
    "from sklearn.model_selection import train_test_split\n",
    "\n",
    "X_train, X_test, y_train, y_test = train_test_split(df.message, df.spam, stratify=df.spam)\n",
    "\n",
    "# print to make sure no data leakage\n",
    "# what is data leakage? https://machinelearningmastery.com/data-leakage-machine-learning/\n",
    "# in summary, data leakage is when information from outside the training dataset is used to create the model\n",
    "# which means the model will not be able to generalize well to new data\n",
    "# how the information from outside the training dataset is used to create the model?\n",
    "# in this case, the information is the test dataset\n",
    "# if we use the test dataset to create the model, then the model will not be able to generalize well to new data\n",
    "print(len(X_train), len(y_train))\n",
    "print(len(X_test), len(y_test))"
   ]
  },
  {
   "cell_type": "markdown",
   "metadata": {},
   "source": [
    "- **We need to tokenize the text data using bert_preprocess.** \n",
    "- After text data tokenized, then we will encode it using bert_encoder"
   ]
  },
  {
   "cell_type": "code",
   "execution_count": 6,
   "metadata": {},
   "outputs": [
    {
     "name": "stderr",
     "output_type": "stream",
     "text": [
      "2023-10-15 01:54:12.585615: I tensorflow/stream_executor/cuda/cuda_gpu_executor.cc:936] successful NUMA node read from SysFS had negative value (-1), but there must be at least one NUMA node, so returning NUMA node zero\n",
      "2023-10-15 01:54:12.585889: I tensorflow/stream_executor/cuda/cuda_gpu_executor.cc:936] successful NUMA node read from SysFS had negative value (-1), but there must be at least one NUMA node, so returning NUMA node zero\n",
      "2023-10-15 01:54:12.609740: I tensorflow/stream_executor/cuda/cuda_gpu_executor.cc:936] successful NUMA node read from SysFS had negative value (-1), but there must be at least one NUMA node, so returning NUMA node zero\n",
      "2023-10-15 01:54:12.610003: I tensorflow/stream_executor/cuda/cuda_gpu_executor.cc:936] successful NUMA node read from SysFS had negative value (-1), but there must be at least one NUMA node, so returning NUMA node zero\n",
      "2023-10-15 01:54:12.610211: I tensorflow/stream_executor/cuda/cuda_gpu_executor.cc:936] successful NUMA node read from SysFS had negative value (-1), but there must be at least one NUMA node, so returning NUMA node zero\n",
      "2023-10-15 01:54:12.610407: I tensorflow/stream_executor/cuda/cuda_gpu_executor.cc:936] successful NUMA node read from SysFS had negative value (-1), but there must be at least one NUMA node, so returning NUMA node zero\n",
      "2023-10-15 01:54:12.611058: I tensorflow/core/platform/cpu_feature_guard.cc:151] This TensorFlow binary is optimized with oneAPI Deep Neural Network Library (oneDNN) to use the following CPU instructions in performance-critical operations:  AVX2 FMA\n",
      "To enable them in other operations, rebuild TensorFlow with the appropriate compiler flags.\n",
      "2023-10-15 01:54:12.739897: I tensorflow/stream_executor/cuda/cuda_gpu_executor.cc:936] successful NUMA node read from SysFS had negative value (-1), but there must be at least one NUMA node, so returning NUMA node zero\n",
      "2023-10-15 01:54:12.740132: I tensorflow/stream_executor/cuda/cuda_gpu_executor.cc:936] successful NUMA node read from SysFS had negative value (-1), but there must be at least one NUMA node, so returning NUMA node zero\n",
      "2023-10-15 01:54:12.740341: I tensorflow/stream_executor/cuda/cuda_gpu_executor.cc:936] successful NUMA node read from SysFS had negative value (-1), but there must be at least one NUMA node, so returning NUMA node zero\n",
      "2023-10-15 01:54:12.740537: I tensorflow/stream_executor/cuda/cuda_gpu_executor.cc:936] successful NUMA node read from SysFS had negative value (-1), but there must be at least one NUMA node, so returning NUMA node zero\n",
      "2023-10-15 01:54:12.740774: I tensorflow/stream_executor/cuda/cuda_gpu_executor.cc:936] successful NUMA node read from SysFS had negative value (-1), but there must be at least one NUMA node, so returning NUMA node zero\n",
      "2023-10-15 01:54:12.740967: I tensorflow/stream_executor/cuda/cuda_gpu_executor.cc:936] successful NUMA node read from SysFS had negative value (-1), but there must be at least one NUMA node, so returning NUMA node zero\n",
      "2023-10-15 01:54:13.264645: I tensorflow/stream_executor/cuda/cuda_gpu_executor.cc:936] successful NUMA node read from SysFS had negative value (-1), but there must be at least one NUMA node, so returning NUMA node zero\n",
      "2023-10-15 01:54:13.264886: I tensorflow/stream_executor/cuda/cuda_gpu_executor.cc:936] successful NUMA node read from SysFS had negative value (-1), but there must be at least one NUMA node, so returning NUMA node zero\n",
      "2023-10-15 01:54:13.265075: I tensorflow/stream_executor/cuda/cuda_gpu_executor.cc:936] successful NUMA node read from SysFS had negative value (-1), but there must be at least one NUMA node, so returning NUMA node zero\n",
      "2023-10-15 01:54:13.265263: I tensorflow/stream_executor/cuda/cuda_gpu_executor.cc:936] successful NUMA node read from SysFS had negative value (-1), but there must be at least one NUMA node, so returning NUMA node zero\n",
      "2023-10-15 01:54:13.265444: I tensorflow/stream_executor/cuda/cuda_gpu_executor.cc:936] successful NUMA node read from SysFS had negative value (-1), but there must be at least one NUMA node, so returning NUMA node zero\n",
      "2023-10-15 01:54:13.265613: I tensorflow/core/common_runtime/gpu/gpu_device.cc:1525] Created device /job:localhost/replica:0/task:0/device:GPU:0 with 19819 MB memory:  -> device: 0, name: NVIDIA GeForce RTX 4090, pci bus id: 0000:41:00.0, compute capability: 8.9\n",
      "2023-10-15 01:54:13.266151: I tensorflow/stream_executor/cuda/cuda_gpu_executor.cc:936] successful NUMA node read from SysFS had negative value (-1), but there must be at least one NUMA node, so returning NUMA node zero\n",
      "2023-10-15 01:54:13.266300: I tensorflow/core/common_runtime/gpu/gpu_device.cc:1525] Created device /job:localhost/replica:0/task:0/device:GPU:1 with 20595 MB memory:  -> device: 1, name: NVIDIA GeForce RTX 4090, pci bus id: 0000:42:00.0, compute capability: 8.9\n"
     ]
    }
   ],
   "source": [
    "import tensorflow as tf \n",
    "import tensorflow_hub as hub \n",
    "import tensorflow_text as text\n",
    "\n",
    "bert_preprocess = hub.KerasLayer(\"https://tfhub.dev/tensorflow/bert_en_uncased_preprocess/3\")\n",
    "bert_encoder = hub.KerasLayer(\"https://tfhub.dev/tensorflow/bert_en_uncased_L-12_H-768_A-12/4\")"
   ]
  },
  {
   "cell_type": "markdown",
   "metadata": {},
   "source": [
    "- **Sentence embedding is to convert the text input into a vector.**\n",
    "- Transformer or BERT not able to process raw data, it needs to be converted into a vector.\n",
    "- We will use bert_encoder to convert the text input into a vector.\n",
    "- its return pooled_output which is [CLS] token embedding and sequence_output which is embedding of all tokens in BERT\n",
    "- Imagine CLS token is try to make single representation over all the input text "
   ]
  },
  {
   "cell_type": "code",
   "execution_count": 7,
   "metadata": {},
   "outputs": [
    {
     "name": "stderr",
     "output_type": "stream",
     "text": [
      "2023-10-15 01:54:20.436365: I tensorflow/stream_executor/cuda/cuda_blas.cc:1786] TensorFloat-32 will be used for the matrix multiplication. This will only be logged once.\n"
     ]
    },
    {
     "data": {
      "text/plain": [
       "<tf.Tensor: shape=(2, 768), dtype=float32, numpy=\n",
       "array([[-0.8814409 , -0.4795407 , -0.92536545, ..., -0.7865841 ,\n",
       "        -0.75873065,  0.91710496],\n",
       "       [-0.8657644 , -0.48833352, -0.93009543, ..., -0.85933286,\n",
       "        -0.72032976,  0.8754201 ]], dtype=float32)>"
      ]
     },
     "execution_count": 7,
     "metadata": {},
     "output_type": "execute_result"
    }
   ],
   "source": [
    "def get_sentence_embedding(sentences):\n",
    "    preprocessed_text = bert_preprocess(sentences)\n",
    "    encoded_text = bert_encoder(preprocessed_text)\n",
    "    return encoded_text['pooled_output']\n",
    "\n",
    "get_sentence_embedding([\"$500 discount. Hurry up!\", \"Bhavin, are you up for volley game tomorrow?\"])"
   ]
  },
  {
   "cell_type": "markdown",
   "metadata": {},
   "source": [
    "- **We create a new layer for input and output.**\n",
    "- Input layer is scalar () and type is string that support UTF-8\n",
    "- Output layer from bert encoder\n",
    "- We create Dropout layer to prevent overfitting\n",
    "- One dense layer for sigmoid activation function"
   ]
  },
  {
   "cell_type": "code",
   "execution_count": 8,
   "metadata": {},
   "outputs": [
    {
     "name": "stdout",
     "output_type": "stream",
     "text": [
      "Model: \"model\"\n",
      "__________________________________________________________________________________________________\n",
      " Layer (type)                   Output Shape         Param #     Connected to                     \n",
      "==================================================================================================\n",
      " text (InputLayer)              [(None,)]            0           []                               \n",
      "                                                                                                  \n",
      " keras_layer (KerasLayer)       {'input_word_ids':   0           ['text[0][0]']                   \n",
      "                                (None, 128),                                                      \n",
      "                                 'input_mask': (Non                                               \n",
      "                                e, 128),                                                          \n",
      "                                 'input_type_ids':                                                \n",
      "                                (None, 128)}                                                      \n",
      "                                                                                                  \n",
      " keras_layer_1 (KerasLayer)     {'pooled_output': (  109482241   ['keras_layer[0][0]',            \n",
      "                                None, 768),                       'keras_layer[0][1]',            \n",
      "                                 'encoder_outputs':               'keras_layer[0][2]']            \n",
      "                                 [(None, 128, 768),                                               \n",
      "                                 (None, 128, 768),                                                \n",
      "                                 (None, 128, 768),                                                \n",
      "                                 (None, 128, 768),                                                \n",
      "                                 (None, 128, 768),                                                \n",
      "                                 (None, 128, 768),                                                \n",
      "                                 (None, 128, 768),                                                \n",
      "                                 (None, 128, 768),                                                \n",
      "                                 (None, 128, 768),                                                \n",
      "                                 (None, 128, 768),                                                \n",
      "                                 (None, 128, 768),                                                \n",
      "                                 (None, 128, 768)],                                               \n",
      "                                 'default': (None,                                                \n",
      "                                768),                                                             \n",
      "                                 'sequence_output':                                               \n",
      "                                 (None, 128, 768)}                                                \n",
      "                                                                                                  \n",
      " dropout (Dropout)              (None, 768)          0           ['keras_layer_1[0][13]']         \n",
      "                                                                                                  \n",
      " output (Dense)                 (None, 1)            769         ['dropout[0][0]']                \n",
      "                                                                                                  \n",
      "==================================================================================================\n",
      "Total params: 109,483,010\n",
      "Trainable params: 769\n",
      "Non-trainable params: 109,482,241\n",
      "__________________________________________________________________________________________________\n"
     ]
    }
   ],
   "source": [
    "# Bert layer\n",
    "text_input = tf.keras.layers.Input(shape=(), dtype=tf.string, name=\"text\")\n",
    "preprocessed_text = bert_preprocess(text_input)\n",
    "outputs = bert_encoder(preprocessed_text)\n",
    "\n",
    "# neural network\n",
    "l = tf.keras.layers.Dropout(0.1, name=\"dropout\")(outputs['pooled_output'])\n",
    "l = tf.keras.layers.Dense(1, activation=\"sigmoid\", name=\"output\")(l)\n",
    "\n",
    "# use inputs and outputs to construct a final model\n",
    "model = tf.keras.Model(inputs=[text_input], outputs=[l])\n",
    "\n",
    "model.summary()"
   ]
  },
  {
   "cell_type": "markdown",
   "metadata": {},
   "source": [
    "- Trainable params is weights that will be updated during training\n",
    "- Non-trainable params is not updated\n"
   ]
  },
  {
   "cell_type": "markdown",
   "metadata": {},
   "source": [
    "- We choose `adam` as optimizer which SGD extension. Its common and popular optimizer.\n",
    "- `Adam` will adjust the learning rate automatically.\n",
    "- We choose `binary_crossentropy` as loss function because we have binary classification problem.\n",
    "- The success metrics is accuracy (there are another like F1, Precision, Recall, etc)"
   ]
  },
  {
   "cell_type": "code",
   "execution_count": 9,
   "metadata": {},
   "outputs": [
    {
     "name": "stdout",
     "output_type": "stream",
     "text": [
      "Epoch 1/5\n"
     ]
    },
    {
     "name": "stdout",
     "output_type": "stream",
     "text": [
      "88/88 [==============================] - 16s 137ms/step - loss: 0.3389 - accuracy: 0.8619\n",
      "Epoch 2/5\n",
      "88/88 [==============================] - 12s 138ms/step - loss: 0.2558 - accuracy: 0.8808\n",
      "Epoch 3/5\n",
      "88/88 [==============================] - 12s 137ms/step - loss: 0.2203 - accuracy: 0.9048\n",
      "Epoch 4/5\n",
      "88/88 [==============================] - 12s 131ms/step - loss: 0.1927 - accuracy: 0.9239\n",
      "Epoch 5/5\n",
      "88/88 [==============================] - 12s 131ms/step - loss: 0.1796 - accuracy: 0.9306\n"
     ]
    },
    {
     "data": {
      "text/plain": [
       "<keras.callbacks.History at 0x7f9370720c40>"
      ]
     },
     "execution_count": 9,
     "metadata": {},
     "output_type": "execute_result"
    }
   ],
   "source": [
    "model.compile(optimizer=\"adam\", loss=\"binary_crossentropy\", metrics=['accuracy'])\n",
    "\n",
    "model.fit(X_train, y_train, epochs=5, batch_size=48)"
   ]
  },
  {
   "cell_type": "markdown",
   "metadata": {},
   "source": [
    "- Evaluating the model using test data and print the accuracy"
   ]
  },
  {
   "cell_type": "code",
   "execution_count": 10,
   "metadata": {},
   "outputs": [
    {
     "name": "stdout",
     "output_type": "stream",
     "text": [
      "44/44 [==============================] - 3s 70ms/step - loss: 0.1615 - accuracy: 0.9354\n"
     ]
    },
    {
     "data": {
      "text/plain": [
       "[0.1614852100610733, 0.9353912472724915]"
      ]
     },
     "execution_count": 10,
     "metadata": {},
     "output_type": "execute_result"
    }
   ],
   "source": [
    "model.evaluate(X_test, y_test)"
   ]
  },
  {
   "cell_type": "markdown",
   "metadata": {},
   "source": [
    "- Using the trained model to predict the test data\n",
    "- The difference with evaluation, its not seeing the label (truth)"
   ]
  },
  {
   "cell_type": "code",
   "execution_count": 11,
   "metadata": {},
   "outputs": [
    {
     "name": "stdout",
     "output_type": "stream",
     "text": [
      "[0.09859416 0.05266986 0.02638505 ... 0.32614058 0.01080248 0.00347597]\n"
     ]
    }
   ],
   "source": [
    "y_predicted = model.predict(X_test)\n",
    "y_predicted = y_predicted.flatten()\n",
    "print(y_predicted)"
   ]
  },
  {
   "cell_type": "markdown",
   "metadata": {},
   "source": [
    "- **The result prediction is not clear spam or not spam**\n",
    "- We converting with whatever value more than 0.5 considered as spam"
   ]
  },
  {
   "cell_type": "code",
   "execution_count": 12,
   "metadata": {},
   "outputs": [
    {
     "data": {
      "text/plain": [
       "array([0, 0, 0, ..., 0, 0, 0])"
      ]
     },
     "execution_count": 12,
     "metadata": {},
     "output_type": "execute_result"
    }
   ],
   "source": [
    "import numpy as np \n",
    "\n",
    "y_predicted = np.where(y_predicted > 0.5, 1, 0)\n",
    "y_predicted\n"
   ]
  }
 ],
 "metadata": {
  "kernelspec": {
   "display_name": "bert",
   "language": "python",
   "name": "python3"
  },
  "language_info": {
   "codemirror_mode": {
    "name": "ipython",
    "version": 3
   },
   "file_extension": ".py",
   "mimetype": "text/x-python",
   "name": "python",
   "nbconvert_exporter": "python",
   "pygments_lexer": "ipython3",
   "version": "3.10.13"
  }
 },
 "nbformat": 4,
 "nbformat_minor": 2
}
