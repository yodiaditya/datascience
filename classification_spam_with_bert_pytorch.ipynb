{
 "cells": [
  {
   "cell_type": "markdown",
   "metadata": {},
   "source": [
    "# BERT Spam Classification using PyTorch\n",
    "\n",
    "Code example to classify spam messages from SMS using BERT and Torch. \n",
    "This code will have example to deal with memory issue with assuming work with large dataset"
   ]
  },
  {
   "cell_type": "code",
   "execution_count": 1,
   "metadata": {},
   "outputs": [
    {
     "data": {
      "text/html": [
       "<div>\n",
       "<style scoped>\n",
       "    .dataframe tbody tr th:only-of-type {\n",
       "        vertical-align: middle;\n",
       "    }\n",
       "\n",
       "    .dataframe tbody tr th {\n",
       "        vertical-align: top;\n",
       "    }\n",
       "\n",
       "    .dataframe thead th {\n",
       "        text-align: right;\n",
       "    }\n",
       "</style>\n",
       "<table border=\"1\" class=\"dataframe\">\n",
       "  <thead>\n",
       "    <tr style=\"text-align: right;\">\n",
       "      <th></th>\n",
       "      <th>label</th>\n",
       "      <th>message</th>\n",
       "    </tr>\n",
       "  </thead>\n",
       "  <tbody>\n",
       "    <tr>\n",
       "      <th>0</th>\n",
       "      <td>ham</td>\n",
       "      <td>Go until jurong point, crazy.. Available only ...</td>\n",
       "    </tr>\n",
       "    <tr>\n",
       "      <th>1</th>\n",
       "      <td>ham</td>\n",
       "      <td>Ok lar... Joking wif u oni...</td>\n",
       "    </tr>\n",
       "    <tr>\n",
       "      <th>2</th>\n",
       "      <td>spam</td>\n",
       "      <td>Free entry in 2 a wkly comp to win FA Cup fina...</td>\n",
       "    </tr>\n",
       "    <tr>\n",
       "      <th>3</th>\n",
       "      <td>ham</td>\n",
       "      <td>U dun say so early hor... U c already then say...</td>\n",
       "    </tr>\n",
       "    <tr>\n",
       "      <th>4</th>\n",
       "      <td>ham</td>\n",
       "      <td>Nah I don't think he goes to usf, he lives aro...</td>\n",
       "    </tr>\n",
       "  </tbody>\n",
       "</table>\n",
       "</div>"
      ],
      "text/plain": [
       "  label                                            message\n",
       "0   ham  Go until jurong point, crazy.. Available only ...\n",
       "1   ham                      Ok lar... Joking wif u oni...\n",
       "2  spam  Free entry in 2 a wkly comp to win FA Cup fina...\n",
       "3   ham  U dun say so early hor... U c already then say...\n",
       "4   ham  Nah I don't think he goes to usf, he lives aro..."
      ]
     },
     "execution_count": 1,
     "metadata": {},
     "output_type": "execute_result"
    }
   ],
   "source": [
    "import pandas as pd\n",
    "\n",
    "# Load the dataset into a pandas dataframe.\n",
    "df = pd.read_csv('data/SMSSpamCollection', sep=\"\\t\", names=['label', 'message'])\n",
    "df.head()"
   ]
  },
  {
   "cell_type": "markdown",
   "metadata": {},
   "source": [
    "**Use map** to modify the label"
   ]
  },
  {
   "cell_type": "code",
   "execution_count": 2,
   "metadata": {},
   "outputs": [
    {
     "data": {
      "text/html": [
       "<div>\n",
       "<style scoped>\n",
       "    .dataframe tbody tr th:only-of-type {\n",
       "        vertical-align: middle;\n",
       "    }\n",
       "\n",
       "    .dataframe tbody tr th {\n",
       "        vertical-align: top;\n",
       "    }\n",
       "\n",
       "    .dataframe thead th {\n",
       "        text-align: right;\n",
       "    }\n",
       "</style>\n",
       "<table border=\"1\" class=\"dataframe\">\n",
       "  <thead>\n",
       "    <tr style=\"text-align: right;\">\n",
       "      <th></th>\n",
       "      <th>label</th>\n",
       "      <th>message</th>\n",
       "    </tr>\n",
       "  </thead>\n",
       "  <tbody>\n",
       "    <tr>\n",
       "      <th>0</th>\n",
       "      <td>0</td>\n",
       "      <td>Go until jurong point, crazy.. Available only ...</td>\n",
       "    </tr>\n",
       "    <tr>\n",
       "      <th>1</th>\n",
       "      <td>0</td>\n",
       "      <td>Ok lar... Joking wif u oni...</td>\n",
       "    </tr>\n",
       "    <tr>\n",
       "      <th>2</th>\n",
       "      <td>1</td>\n",
       "      <td>Free entry in 2 a wkly comp to win FA Cup fina...</td>\n",
       "    </tr>\n",
       "    <tr>\n",
       "      <th>3</th>\n",
       "      <td>0</td>\n",
       "      <td>U dun say so early hor... U c already then say...</td>\n",
       "    </tr>\n",
       "    <tr>\n",
       "      <th>4</th>\n",
       "      <td>0</td>\n",
       "      <td>Nah I don't think he goes to usf, he lives aro...</td>\n",
       "    </tr>\n",
       "  </tbody>\n",
       "</table>\n",
       "</div>"
      ],
      "text/plain": [
       "   label                                            message\n",
       "0      0  Go until jurong point, crazy.. Available only ...\n",
       "1      0                      Ok lar... Joking wif u oni...\n",
       "2      1  Free entry in 2 a wkly comp to win FA Cup fina...\n",
       "3      0  U dun say so early hor... U c already then say...\n",
       "4      0  Nah I don't think he goes to usf, he lives aro..."
      ]
     },
     "execution_count": 2,
     "metadata": {},
     "output_type": "execute_result"
    }
   ],
   "source": [
    "# replace ham with 0 and spam with 1\n",
    "df.label = df.label.map({'ham': 0, 'spam': 1})\n",
    "df.head()"
   ]
  },
  {
   "cell_type": "markdown",
   "metadata": {},
   "source": [
    "**Check maximum text length** because BERT have length limitation"
   ]
  },
  {
   "cell_type": "code",
   "execution_count": 3,
   "metadata": {},
   "outputs": [
    {
     "name": "stdout",
     "output_type": "stream",
     "text": [
      "171\n"
     ]
    },
    {
     "data": {
      "image/png": "[encoded data removed]",
      "text/plain": [
       "<Figure size 640x480 with 1 Axes>"
      ]
     },
     "metadata": {},
     "output_type": "display_data"
    }
   ],
   "source": [
    "# count the sequence length of each message\n",
    "seq_len = [len(i.split()) for i in df.message]\n",
    "\n",
    "# Plot the histogram for the sequence length\n",
    "pd.Series(seq_len).hist(bins=30)\n",
    "max_seq_len = max(seq_len)\n",
    "print(max_seq_len)"
   ]
  },
  {
   "cell_type": "markdown",
   "metadata": {},
   "source": [
    "**Check distribution of spam and not-spam in dataset**"
   ]
  },
  {
   "cell_type": "code",
   "execution_count": 4,
   "metadata": {},
   "outputs": [
    {
     "data": {
      "text/plain": [
       "label\n",
       "0    0.865937\n",
       "1    0.134063\n",
       "Name: proportion, dtype: float64"
      ]
     },
     "execution_count": 4,
     "metadata": {},
     "output_type": "execute_result"
    }
   ],
   "source": [
    "df.label.value_counts(normalize=True)"
   ]
  },
  {
   "cell_type": "markdown",
   "metadata": {},
   "source": [
    "**Check distribution based on text length on spam and non-spam**"
   ]
  },
  {
   "cell_type": "code",
   "execution_count": 5,
   "metadata": {},
   "outputs": [
    {
     "data": {
      "image/png": "[encoded data removed]",
      "text/plain": [
       "<Figure size 1000x400 with 1 Axes>"
      ]
     },
     "metadata": {},
     "output_type": "display_data"
    }
   ],
   "source": [
    "import matplotlib.pyplot as plt\n",
    "%matplotlib inline\n",
    "\n",
    "import seaborn as sns\n",
    "\n",
    "df['length'] = df.message.apply(len)\n",
    "\n",
    "_, ax = plt.subplots(figsize=(10, 4))\n",
    "sns.kdeplot(df.loc[df.label == 0, \"length\"], fill=True, label=\"Ham\", clip=(-50, 250),)\n",
    "sns.kdeplot(df.loc[df.label == 1, \"length\"], fill=True, label=\"Spam\")\n",
    "ax.set(\n",
    "    xlabel=\"Length\",\n",
    "    ylabel=\"Density\",\n",
    "    title=\"Length of messages.\",\n",
    ")\n",
    "ax.legend(loc=\"upper right\")\n",
    "plt.show()\n",
    "\n"
   ]
  },
  {
   "cell_type": "markdown",
   "metadata": {},
   "source": [
    "**Split data into training and test** and using Stratified sampling to ensure the data balance between spam and ham in training and test"
   ]
  },
  {
   "cell_type": "code",
   "execution_count": 6,
   "metadata": {},
   "outputs": [
    {
     "name": "stdout",
     "output_type": "stream",
     "text": [
      "5014 279 279\n"
     ]
    }
   ],
   "source": [
    "from sklearn.model_selection import train_test_split\n",
    "\n",
    "# split data into train and temporary validation, while keep the balance of spam portion on each\n",
    "df_train, df_temp = train_test_split(df, test_size=0.1, stratify=df.label, random_state=42)\n",
    "\n",
    "# split into validation and test, while keep the balance of spam portion on each\n",
    "df_val, df_test = train_test_split(df_temp, test_size=0.5, random_state=42, stratify=df_temp.label)\n",
    "\n",
    "# print the portion of dataset from train, validation and test\n",
    "print(len(df_train), len(df_val), len(df_test))"
   ]
  },
  {
   "cell_type": "markdown",
   "metadata": {},
   "source": [
    "**Remember, we don't feed raw text into BERT model** We tokenized!"
   ]
  },
  {
   "cell_type": "code",
   "execution_count": 7,
   "metadata": {},
   "outputs": [
    {
     "name": "stdout",
     "output_type": "stream",
     "text": [
      "{'input_ids': [[101, 1045, 2215, 2000, 2175, 2000, 1996, 3006, 102, 0, 0], [101, 2131, 1002, 4278, 13751, 2085, 999, 3733, 2769, 999, 102]], 'attention_mask': [[1, 1, 1, 1, 1, 1, 1, 1, 1, 0, 0], [1, 1, 1, 1, 1, 1, 1, 1, 1, 1, 1]]}\n"
     ]
    }
   ],
   "source": [
    "from transformers import BertTokenizer, BertModel, DataCollatorWithPadding\n",
    "\n",
    "# Load the BERT tokenizer.\n",
    "tokenizer = BertTokenizer.from_pretrained('bert-base-uncased')\n",
    "\n",
    "# Tokenize all of the sentences\n",
    "text = [\"I want to go to the market\", \"Get $400 USD now! easy money!\"]\n",
    "\n",
    "# Tokenize all of the sentences and map the tokens.\n",
    "sent_id = tokenizer.batch_encode_plus(text, padding=True, return_token_type_ids=False)\n",
    "\n",
    "# Show the results of the tokenization that will feed into BertModel\n",
    "# We don't give raw text to BertModel, we give the tokenized version\n",
    "print(sent_id)"
   ]
  },
  {
   "cell_type": "markdown",
   "metadata": {},
   "source": [
    "**Build DataSet class to convert DataFrame**"
   ]
  },
  {
   "cell_type": "code",
   "execution_count": 8,
   "metadata": {},
   "outputs": [],
   "source": [
    "import torch\n",
    "import numpy as np\n",
    "\n",
    "class SmsDataset(torch.utils.data.Dataset):\n",
    "    def __init__(self, df):\n",
    "        self.df = df\n",
    "\n",
    "    def __len__(self):\n",
    "        return len(self.df)\n",
    "\n",
    "    def __getitem__(self, idx):\n",
    "        # provide a single dict contain text and label as one row of the dataframe based on given index\n",
    "        return {'text': self.df.iloc[idx]['message'], 'label': self.df.iloc[idx]['label']}"
   ]
  },
  {
   "cell_type": "code",
   "execution_count": 9,
   "metadata": {},
   "outputs": [],
   "source": [
    "class DynamicPaddingCollator:\n",
    "    \"\"\"\n",
    "    What is dynamic padding for? it is used to reduce the amount of padding applied to the input text.\n",
    "    Usually, we pad the input text to the maximum length param like 512, while most of the text is much shorter than that.\n",
    "    So, we can use dynamic padding to reduce the amount of padding applied to the input text.\n",
    "\n",
    "    What is DataCollatorWithPadding? it is a class from transformers library that will be used in training loop later.\n",
    "    \"\"\"\n",
    "\n",
    "    def __init__(self, tokenizer):\n",
    "        self.tokenizer = tokenizer\n",
    "        self.padding_collator = DataCollatorWithPadding(tokenizer=tokenizer)\n",
    "\n",
    "    def __call__(self, batch):\n",
    "        # batch contain multiple samples from SmsDataset, which the size is based on batch_size param in DataLoader\n",
    "        # example of batch output is: [{'text': 'I want to go to the market', 'label': 0}, {'text': 'Get $400 USD now! easy money!', 'label': 1}}]\n",
    "        texts = [item['text'] for item in batch]\n",
    "        tokenized_inputs = self.tokenizer(texts, return_tensors=\"pt\", padding=\"longest\", truncation=True)\n",
    "        labels = [item['label'] for item in batch]\n",
    "\n",
    "        # apply dynamic padding to inputs\n",
    "        new_batch = self.padding_collator(tokenized_inputs)        \n",
    "        new_batch['labels'] = torch.tensor(labels).float() # or you can use tensor.stack(labels)\n",
    "\n",
    "        # return the new batch with tokenized inputs and combined list of labels\n",
    "        return new_batch\n",
    "\n",
    "# Data Collator is a function that takes a list of samples from a Dataset and collate them into a batch, as a dictionary of Tensors.\n",
    "data_collator = DynamicPaddingCollator(tokenizer=tokenizer)"
   ]
  },
  {
   "cell_type": "code",
   "execution_count": 10,
   "metadata": {},
   "outputs": [],
   "source": [
    "# Wrap DataFrame into Dataset class\n",
    "train_dataset = SmsDataset(df_train)\n",
    "val_dataset = SmsDataset(df_val)\n",
    "test_dataset = SmsDataset(df_test)\n",
    "\n",
    "# Convert the dataset to torch tensors and apply dynamic padding using data_collator\n",
    "# pin_memory=True will speed up the data loading to GPU, because samples will be copied into pinned memory\n",
    "# num_workers=4 will make the data loading process faster by using 4 CPU cores\n",
    "#\n",
    "# shuffle=True will help to randomize the order of samples so it will not be loaded in the same order\n",
    "# it is important to set shuffle=True for training dataset, but not for validation and test dataset\n",
    "# this is also helping the model to generalize better, rather influenced by some pattern from samples sequence\n",
    "#\n",
    "# REMEMBER: Adjust batch_size based on your GPU memory capacity. I'm using 4090 24GB GPU, so I can use batch_size=48 for training\n",
    "#\n",
    "train_loader = torch.utils.data.DataLoader(train_dataset, batch_size=48, shuffle=True, num_workers=4, collate_fn=data_collator, pin_memory=True)\n",
    "val_loader = torch.utils.data.DataLoader(val_dataset, batch_size=16, shuffle=False, num_workers=4, collate_fn=data_collator, pin_memory=True)\n",
    "test_loader = torch.utils.data.DataLoader(test_dataset, batch_size=16, shuffle=False, num_workers=4, collate_fn=data_collator, pin_memory=True)\n"
   ]
  },
  {
   "cell_type": "code",
   "execution_count": 11,
   "metadata": {},
   "outputs": [],
   "source": [
    "from torch import nn\n",
    "from transformers import BertTokenizer, BertForSequenceClassification\n",
    "\n",
    "class BertClassifier(nn.Module):\n",
    "    \"\"\"\n",
    "    Bert Neural Network classifier for spam classification\n",
    "    We use dropout to prevent overfitting, linear layer to reduce the dimension of the output from BERT, and sigmoid to get the probability of the output\n",
    "    \"\"\"\n",
    "    def __init__(self, dropout=0.1):\n",
    "        super(BertClassifier, self).__init__()\n",
    "\n",
    "        # load the bert model\n",
    "        self.bert = BertModel.from_pretrained('bert-base-uncased')\n",
    "\n",
    "        # create the dropout layer with value setup in dropout param\n",
    "        self.dropout = nn.Dropout(dropout)\n",
    "\n",
    "        # create the linear layer with 1 output, because we only have 2 classes (spam or not spam)\n",
    "        self.linear = nn.Linear(768, 1) # 768 is the size of the hidden state of BERT\n",
    "\n",
    "    def forward(self, input_ids, attention_mask):\n",
    "        \"\"\"\n",
    "        What forward pass? it is a function that will be called when we call the model with some input.\n",
    "        For example: model(input_ids, attention_mask)\n",
    "\n",
    "        Forward pass will return the output of the model, which is the probability of the input text is spam or not spam\n",
    "        one forward pass is equal to one training step, which will be used to calculate the loss and update the model weights\n",
    "        \"\"\"\n",
    "        # input_ids is the tokenized version of the input text and attention mask is the mask for padding <pad> token\n",
    "        outputs = self.bert(input_ids=input_ids, attention_mask=attention_mask)\n",
    "        pooled_output = outputs.pooler_output\n",
    "        drop_out = self.dropout(pooled_output)\n",
    "\n",
    "        return self.linear(drop_out).squeeze(-1)"
   ]
  },
  {
   "cell_type": "code",
   "execution_count": 12,
   "metadata": {},
   "outputs": [],
   "source": [
    "from torch.optim import AdamW\n",
    "from tqdm import tqdm \n",
    "from sklearn.metrics import accuracy_score\n",
    "\n",
    "def train(model, train_data, val_data, learning_rate, epochs):\n",
    "    # change this into False if you want to do debugging on training \n",
    "    use_cuda = torch.cuda.is_available()\n",
    "\n",
    "    device = torch.device(\"cuda\" if use_cuda else \"cpu\")\n",
    "\n",
    "    # criterion is the loss function, we use Binary Cross Entropy Loss with logits (recommended) than BCELoss\n",
    "    criterion = nn.BCEWithLogitsLoss()\n",
    "\n",
    "    # optimizer is the optimizer function, we use Adam optimizer\n",
    "    # the purpose of optimizer is to update the weights of the neural network\n",
    "    # and we will reset the gradient to zero after every epoch, to avoid gradient accumulation\n",
    "    # gradient accumulation is useful for training with large batch size, but we don't use it here\n",
    "    optimizer = AdamW(model.parameters(), lr=learning_rate)\n",
    "\n",
    "    # move the model and criterion to GPU if available\n",
    "    if use_cuda:\n",
    "        model.to(device)\n",
    "        criterion.to(device)\n",
    "\n",
    "    # start training\n",
    "    # what is epoch? it is a single pass through the entire training dataset\n",
    "    # epochs vs batch size? batch size is the number of samples processed before the model is updated\n",
    "    for epoch_num in range(epochs):\n",
    "\n",
    "        # start training\n",
    "        model.train()\n",
    "\n",
    "        # after every epoch, we will reset the running loss to 0\n",
    "        running_train_loss = 0.0\n",
    "\n",
    "        # all_train_preds and all_train_labels will be used to calculate the training accuracy metric\n",
    "        all_train_preds, all_train_labels = [], []\n",
    "\n",
    "        # tqdm is used to show the progress bar\n",
    "        for batch in tqdm(train_data):\n",
    "\n",
    "            # move the input, attention mask and label to GPU if available\n",
    "            inputs = batch['input_ids'].to(device)\n",
    "            attention_mask = batch['attention_mask'].to(device)\n",
    "            labels = batch['labels'].to(device)\n",
    "\n",
    "            # forward pass (calculate the output of the model)\n",
    "            outputs = model(inputs, attention_mask) \n",
    "\n",
    "            # using detach because training will use grad=True, but we don't need the gradient for validation\n",
    "            preds = torch.sigmoid(outputs).round().detach().cpu() \n",
    "\n",
    "            # calculate the loss, and accumulate the loss for every batch\n",
    "            loss = criterion(outputs, labels.float())\n",
    "            running_train_loss += loss.item()\n",
    "\n",
    "            # backward pass (calculate the gradient)\n",
    "            loss.backward()\n",
    "\n",
    "            # update the model weights\n",
    "            optimizer.step()\n",
    "\n",
    "            # append the predictions and labels to calculate the accuracy later\n",
    "            all_train_preds.extend(preds)\n",
    "            all_train_labels.extend(labels.cpu())\n",
    "\n",
    "            # reset the gradient to zero after every epoch\n",
    "            optimizer.zero_grad()\n",
    "\n",
    "        # calculate the average training loss\n",
    "        avg_train_loss = running_train_loss / len(train_data)\n",
    "\n",
    "        # calculate the training accuracy\n",
    "        train_accuracy = accuracy_score(all_train_labels, all_train_preds)\n",
    "\n",
    "        # after every epoch, we will do validation. we will not update the model weights during validation\n",
    "        # so we need to change the model to evaluation mode\n",
    "        model.eval()\n",
    "\n",
    "        running_val_loss = 0.0        \n",
    "        all_preds, all_labels = [], []\n",
    "\n",
    "        # turn off the gradient calculation to save memory and computation\n",
    "        with torch.no_grad():\n",
    "\n",
    "            # set the model to evaluation mode\n",
    "            for batch in val_data:\n",
    "                # move the input and label to GPU if available\n",
    "                inputs = batch['input_ids'].to(device)\n",
    "                attention_mask = batch['attention_mask'].to(device)\n",
    "                labels = batch['labels'].to(device)\n",
    "\n",
    "                # forward pass\n",
    "                outputs = model(inputs, attention_mask)\n",
    "                preds = torch.sigmoid(outputs).round().cpu()\n",
    "\n",
    "                loss = criterion(outputs, labels.float())\n",
    "                running_val_loss += loss.item()\n",
    "\n",
    "                all_preds.extend(preds)\n",
    "                all_labels.extend(labels.cpu())\n",
    "\n",
    "                print(inputs.shape, attention_mask.shape)\n",
    "                print(len(all_preds), len(all_labels))\n",
    "\n",
    "        avg_val_loss = running_val_loss / len(train_data)\n",
    "        accuracy = accuracy_score(all_labels, all_preds)\n",
    "\n",
    "        # print the training loss, validation loss and accuracy for every epoch\n",
    "        print(f\"Epoch {epoch_num+1}/{epochs}\")\n",
    "        print(f\"Training Loss: {avg_train_loss:.4f}, Validation Loss: {avg_val_loss:.4f}\")\n",
    "        print(f\"Training Accuracy: {train_accuracy:.4f} | Validation Accuracy: {accuracy:.4f}\")"
   ]
  },
  {
   "cell_type": "code",
   "execution_count": 13,
   "metadata": {},
   "outputs": [
    {
     "name": "stderr",
     "output_type": "stream",
     "text": [
      "100%|██████████| 105/105 [00:11<00:00,  9.18it/s]\n"
     ]
    },
    {
     "name": "stdout",
     "output_type": "stream",
     "text": [
      "torch.Size([16, 53]) torch.Size([16, 53])\n",
      "16 16\n",
      "torch.Size([16, 65]) torch.Size([16, 65])\n",
      "32 32\n",
      "torch.Size([16, 42]) torch.Size([16, 42])\n",
      "48 48\n",
      "torch.Size([16, 61]) torch.Size([16, 61])\n",
      "64 64\n",
      "torch.Size([16, 51]) torch.Size([16, 51])\n",
      "80 80\n",
      "torch.Size([16, 57]) torch.Size([16, 57])\n",
      "96 96\n",
      "torch.Size([16, 68]) torch.Size([16, 68])\n",
      "112 112\n",
      "torch.Size([16, 140]) torch.Size([16, 140])\n",
      "128 128\n",
      "torch.Size([16, 50]) torch.Size([16, 50])\n",
      "144 144\n",
      "torch.Size([16, 55]) torch.Size([16, 55])\n",
      "160 160\n",
      "torch.Size([16, 37]) torch.Size([16, 37])\n",
      "176 176\n",
      "torch.Size([16, 125]) torch.Size([16, 125])\n",
      "192 192\n",
      "torch.Size([16, 52]) torch.Size([16, 52])\n",
      "208 208\n",
      "torch.Size([16, 47]) torch.Size([16, 47])\n",
      "224 224\n",
      "torch.Size([16, 61]) torch.Size([16, 61])\n",
      "240 240\n",
      "torch.Size([16, 57]) torch.Size([16, 57])\n",
      "256 256\n",
      "torch.Size([16, 54]) torch.Size([16, 54])\n",
      "272 272\n",
      "torch.Size([7, 48]) torch.Size([7, 48])\n",
      "279 279\n",
      "Epoch 1/5\n",
      "Training Loss: 0.1404, Validation Loss: 0.0070\n",
      "Training Accuracy: 0.9603 | Validation Accuracy: 0.9892\n"
     ]
    },
    {
     "name": "stderr",
     "output_type": "stream",
     "text": [
      "100%|██████████| 105/105 [00:09<00:00, 10.72it/s]\n"
     ]
    },
    {
     "name": "stdout",
     "output_type": "stream",
     "text": [
      "torch.Size([16, 53]) torch.Size([16, 53])\n",
      "16 16\n",
      "torch.Size([16, 65]) torch.Size([16, 65])\n",
      "32 32\n",
      "torch.Size([16, 42]) torch.Size([16, 42])\n",
      "48 48\n",
      "torch.Size([16, 61]) torch.Size([16, 61])\n",
      "64 64\n",
      "torch.Size([16, 51]) torch.Size([16, 51])\n",
      "80 80\n",
      "torch.Size([16, 57]) torch.Size([16, 57])\n",
      "96 96\n",
      "torch.Size([16, 68]) torch.Size([16, 68])\n",
      "112 112\n",
      "torch.Size([16, 140]) torch.Size([16, 140])\n",
      "128 128\n",
      "torch.Size([16, 50]) torch.Size([16, 50])\n",
      "144 144\n",
      "torch.Size([16, 55]) torch.Size([16, 55])\n",
      "160 160\n",
      "torch.Size([16, 37]) torch.Size([16, 37])\n",
      "176 176\n",
      "torch.Size([16, 125]) torch.Size([16, 125])\n",
      "192 192\n",
      "torch.Size([16, 52]) torch.Size([16, 52])\n",
      "208 208\n",
      "torch.Size([16, 47]) torch.Size([16, 47])\n",
      "224 224\n",
      "torch.Size([16, 61]) torch.Size([16, 61])\n",
      "240 240\n",
      "torch.Size([16, 57]) torch.Size([16, 57])\n",
      "256 256\n",
      "torch.Size([16, 54]) torch.Size([16, 54])\n",
      "272 272\n",
      "torch.Size([7, 48]) torch.Size([7, 48])\n",
      "279 279\n",
      "Epoch 2/5\n",
      "Training Loss: 0.0318, Validation Loss: 0.0043\n",
      "Training Accuracy: 0.9916 | Validation Accuracy: 0.9964\n"
     ]
    },
    {
     "name": "stderr",
     "output_type": "stream",
     "text": [
      "100%|██████████| 105/105 [00:09<00:00, 10.83it/s]\n"
     ]
    },
    {
     "name": "stdout",
     "output_type": "stream",
     "text": [
      "torch.Size([16, 53]) torch.Size([16, 53])\n",
      "16 16\n",
      "torch.Size([16, 65]) torch.Size([16, 65])\n",
      "32 32\n",
      "torch.Size([16, 42]) torch.Size([16, 42])\n",
      "48 48\n",
      "torch.Size([16, 61]) torch.Size([16, 61])\n",
      "64 64\n",
      "torch.Size([16, 51]) torch.Size([16, 51])\n",
      "80 80\n",
      "torch.Size([16, 57]) torch.Size([16, 57])\n",
      "96 96\n",
      "torch.Size([16, 68]) torch.Size([16, 68])\n",
      "112 112\n",
      "torch.Size([16, 140]) torch.Size([16, 140])\n",
      "128 128\n",
      "torch.Size([16, 50]) torch.Size([16, 50])\n",
      "144 144\n",
      "torch.Size([16, 55]) torch.Size([16, 55])\n",
      "160 160\n",
      "torch.Size([16, 37]) torch.Size([16, 37])\n",
      "176 176\n",
      "torch.Size([16, 125]) torch.Size([16, 125])\n",
      "192 192\n",
      "torch.Size([16, 52]) torch.Size([16, 52])\n",
      "208 208\n",
      "torch.Size([16, 47]) torch.Size([16, 47])\n",
      "224 224\n",
      "torch.Size([16, 61]) torch.Size([16, 61])\n",
      "240 240\n",
      "torch.Size([16, 57]) torch.Size([16, 57])\n",
      "256 256\n",
      "torch.Size([16, 54]) torch.Size([16, 54])\n",
      "272 272\n",
      "torch.Size([7, 48]) torch.Size([7, 48])\n",
      "279 279\n",
      "Epoch 3/5\n",
      "Training Loss: 0.0109, Validation Loss: 0.0074\n",
      "Training Accuracy: 0.9976 | Validation Accuracy: 0.9892\n"
     ]
    },
    {
     "name": "stderr",
     "output_type": "stream",
     "text": [
      "100%|██████████| 105/105 [00:09<00:00, 10.53it/s]\n"
     ]
    },
    {
     "name": "stdout",
     "output_type": "stream",
     "text": [
      "torch.Size([16, 53]) torch.Size([16, 53])\n",
      "16 16\n",
      "torch.Size([16, 65]) torch.Size([16, 65])\n",
      "32 32\n",
      "torch.Size([16, 42]) torch.Size([16, 42])\n",
      "48 48\n",
      "torch.Size([16, 61]) torch.Size([16, 61])\n",
      "64 64\n",
      "torch.Size([16, 51]) torch.Size([16, 51])\n",
      "80 80\n",
      "torch.Size([16, 57]) torch.Size([16, 57])\n",
      "96 96\n",
      "torch.Size([16, 68]) torch.Size([16, 68])\n",
      "112 112\n",
      "torch.Size([16, 140]) torch.Size([16, 140])\n",
      "128 128\n",
      "torch.Size([16, 50]) torch.Size([16, 50])\n",
      "144 144\n",
      "torch.Size([16, 55]) torch.Size([16, 55])\n",
      "160 160\n",
      "torch.Size([16, 37]) torch.Size([16, 37])\n",
      "176 176\n",
      "torch.Size([16, 125]) torch.Size([16, 125])\n",
      "192 192\n",
      "torch.Size([16, 52]) torch.Size([16, 52])\n",
      "208 208\n",
      "torch.Size([16, 47]) torch.Size([16, 47])\n",
      "224 224\n",
      "torch.Size([16, 61]) torch.Size([16, 61])\n",
      "240 240\n",
      "torch.Size([16, 57]) torch.Size([16, 57])\n",
      "256 256\n",
      "torch.Size([16, 54]) torch.Size([16, 54])\n",
      "272 272\n",
      "torch.Size([7, 48]) torch.Size([7, 48])\n",
      "279 279\n",
      "Epoch 4/5\n",
      "Training Loss: 0.0033, Validation Loss: 0.0066\n",
      "Training Accuracy: 0.9994 | Validation Accuracy: 0.9928\n"
     ]
    },
    {
     "name": "stderr",
     "output_type": "stream",
     "text": [
      "100%|██████████| 105/105 [00:09<00:00, 10.92it/s]\n"
     ]
    },
    {
     "name": "stdout",
     "output_type": "stream",
     "text": [
      "torch.Size([16, 53]) torch.Size([16, 53])\n",
      "16 16\n",
      "torch.Size([16, 65]) torch.Size([16, 65])\n",
      "32 32\n",
      "torch.Size([16, 42]) torch.Size([16, 42])\n",
      "48 48\n",
      "torch.Size([16, 61]) torch.Size([16, 61])\n",
      "64 64\n",
      "torch.Size([16, 51]) torch.Size([16, 51])\n",
      "80 80\n",
      "torch.Size([16, 57]) torch.Size([16, 57])\n",
      "96 96\n",
      "torch.Size([16, 68]) torch.Size([16, 68])\n",
      "112 112\n",
      "torch.Size([16, 140]) torch.Size([16, 140])\n",
      "128 128\n",
      "torch.Size([16, 50]) torch.Size([16, 50])\n",
      "144 144\n",
      "torch.Size([16, 55]) torch.Size([16, 55])\n",
      "160 160\n",
      "torch.Size([16, 37]) torch.Size([16, 37])\n",
      "176 176\n",
      "torch.Size([16, 125]) torch.Size([16, 125])\n",
      "192 192\n",
      "torch.Size([16, 52]) torch.Size([16, 52])\n",
      "208 208\n",
      "torch.Size([16, 47]) torch.Size([16, 47])\n",
      "224 224\n",
      "torch.Size([16, 61]) torch.Size([16, 61])\n",
      "240 240\n",
      "torch.Size([16, 57]) torch.Size([16, 57])\n",
      "256 256\n",
      "torch.Size([16, 54]) torch.Size([16, 54])\n",
      "272 272\n",
      "torch.Size([7, 48]) torch.Size([7, 48])\n",
      "279 279\n",
      "Epoch 5/5\n",
      "Training Loss: 0.0014, Validation Loss: 0.0063\n",
      "Training Accuracy: 0.9998 | Validation Accuracy: 0.9928\n",
      "Elapsed time during the whole program in seconds: 54.867672852000396\n"
     ]
    }
   ],
   "source": [
    "from time import perf_counter\n",
    "\n",
    "EPOCHS = 5\n",
    "model = BertClassifier()\n",
    "LR = 2e-5\n",
    "\n",
    "# Start the stopwatch / counter\n",
    "t1_start = perf_counter() \n",
    "\n",
    "# start training\n",
    "train(model, train_loader, val_loader, LR, EPOCHS)\n",
    "\n",
    "# Stop the stopwatch / counter\n",
    "t1_stop = perf_counter()\n",
    "\n",
    "print(\"Elapsed time during the whole program in seconds:\", t1_stop-t1_start)\n"
   ]
  },
  {
   "cell_type": "markdown",
   "metadata": {},
   "source": [
    "**Results**   \n",
    "Loss in BCELoss function is 0.0071, which is good enough for this model.   \n",
    "The loss is not percentage, but the difference between the predicted value and the actual value.   \n",
    "`Training Loss: 0.0066, Validation Loss: 0.0071`\n",
    "\n",
    "While Accuracy is calculated in percentage,   \n",
    "which is the number of correct prediction divided by the total number of prediction.   \n",
    "`Training Accuracy: 0.9988 | Validation Accuracy: 0.9892`"
   ]
  },
  {
   "cell_type": "code",
   "execution_count": 15,
   "metadata": {},
   "outputs": [
    {
     "name": "stdout",
     "output_type": "stream",
     "text": [
      "Test Accuracy:  0.982\n"
     ]
    }
   ],
   "source": [
    "def evaluate(model, test_dataloader):\n",
    "    use_cuda = torch.cuda.is_available()\n",
    "\n",
    "    device = torch.device(\"cuda\" if use_cuda else \"cpu\")\n",
    "    total_acc_test = 0\n",
    "    all_test_preds, all_test_labels = [], []\n",
    "\n",
    "    with torch.no_grad():\n",
    "\n",
    "        for batch in test_dataloader:\n",
    "            # move the input and label to GPU if available\n",
    "            inputs = batch['input_ids'].to(device)\n",
    "            attention_mask = batch['attention_mask'].to(device)\n",
    "            labels = batch['labels'].to(device)\n",
    "\n",
    "            # forward pass\n",
    "            outputs = model(inputs, attention_mask)\n",
    "            preds = torch.sigmoid(outputs).round().cpu()\n",
    "\n",
    "            all_test_preds.extend(preds)\n",
    "            all_test_labels.extend(labels.cpu())\n",
    "\n",
    "\n",
    "    accuracy = accuracy_score(all_test_preds, all_test_labels)\n",
    "    print(f'Test Accuracy: {accuracy: .3f}')\n",
    "\n",
    "evaluate(model, test_loader)"
   ]
  }
 ],
 "metadata": {
  "kernelspec": {
   "display_name": "bert",
   "language": "python",
   "name": "python3"
  },
  "language_info": {
   "codemirror_mode": {
    "name": "ipython",
    "version": 3
   },
   "file_extension": ".py",
   "mimetype": "text/x-python",
   "name": "python",
   "nbconvert_exporter": "python",
   "pygments_lexer": "ipython3",
   "version": "3.10.13"
  }
 },
 "nbformat": 4,
 "nbformat_minor": 2
}
